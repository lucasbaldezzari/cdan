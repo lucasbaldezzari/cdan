{
 "cells": [
  {
   "cell_type": "markdown",
   "id": "545b1d3f",
   "metadata": {},
   "source": [
    "# <font color=\"#3A40A2\">📘 Introducción al Aprendizaje No Supervisado - Parte práctica </font>\n",
    "\n",
    "**Materia: Ciencia de Datos aplicada a los Negocios - Universidad de San Andrés**\n",
    "\n",
    "**Autor: [Lucas BALDEZZARI](https://www.linkedin.com/in/lucasbaldezzari/)**\n",
    "\n",
    "**2025**\n",
    "\n",
    "---"
   ]
  },
  {
   "cell_type": "markdown",
   "id": "3678ef3f",
   "metadata": {},
   "source": [
    "## <font color=\"#004eb3\">Temas de la Colab</font>\n",
    "\n",
    "Para esta clase, los temas que veremos son:\n",
    "\n",
    "- Repaso de Aprendisaje Supervisado (AS)\n",
    "- Introducción al Aprendizaje No Supervisado\n",
    "- Diferencias entre aprendizaje supervisado y no supervisado.\n",
    "- Introducción a algoritmos de aprendizaje no supervisado (clustering, jerárquicos).\n",
    "- Introducción a técnicas de evaluación y validación de algoritmos no supervisados.\n",
    "\n",
    "Es importante prestar atención a los siguientes íconos o emojis que aparezcan a lo largo de la Colab.\n",
    "\n",
    "- 📘 **Teoría**: Conceptos teóricos.\n",
    "- 📚 **Lectura**: Material adicional que puedes consultar para profundizar en el tema.\n",
    "- 📊 **Ejemplo**: Ejemplo para demostrar y/o reforzar conceptos.\n",
    "- 🔗 **Enlace**: Recursos externos que puedes visitar para obtener más información.\n",
    "- ❓ **Pregunta**: Preguntas disparadas a lo largo del contenido para reflexionar sobre los ejemplos y conceptos tratados.\n",
    "- 💻 **Código**: Indica que la celda de abajo es una celda con código y debe ser ejecutada para ver su contenido."
   ]
  },
  {
   "cell_type": "markdown",
   "id": "6887d99e",
   "metadata": {},
   "source": [
    "---\n",
    "### 📘 <font color=\"#00b351\">Repaso de Aprendisaje Supervisado (AS)</font>.\n",
    "\n",
    "> El *Aprendizaje Supervisado* es una técnica de aprendizaje automático donde el modelo se entrena con un conjunto de datos etiquetados. Esto significa que cada entrada del conjunto de datos tiene una etiqueta o resultado conocido, lo que permite al modelo aprender a predecir resultados para nuevas entradas.\n",
    "\n",
    "¿Por qué es importante el Aprendizaje Supervisado? El AS es fundamental en muchas aplicaciones prácticas, como la clasificación de correos electrónicos, el reconocimiento de voz, la predicción de precios o resolver problemas de clasificación. Permite a los modelos (máquina) aprender patrones a partir de datos históricos y hacer predicciones en situaciones futuras.\n",
    "\n",
    "Ejemplos de Aprendizaje Supervisado incluyen:\n",
    "- *Clasificación*: Asignar una etiqueta a una entrada, como clasificar correos electrónicos como \"spam\" o \"no spam\".\n",
    "- **Regresión**: Predecir un valor continuo, como el precio de una casa basado en características como el tamaño, la ubicación y el número de habitaciones.\n",
    "- **Detección de Anomalías**: Identificar datos que se desvían significativamente del comportamiento normal, como detectar fraudes en transacciones financieras.\n",
    "- *Reconocimiento de Imágenes*: Identificar objetos o características en imágenes, como reconocer rostros en fotos.\n",
    "- *Procesamiento de Lenguaje Natural (NLP)*: Analizar y comprender el lenguaje humano, como la clasificación de sentimientos en reseñas de productos.\n",
    "- **Recomendación de Productos**: Sugerir productos a los usuarios basándose en sus preferencias y comportamientos anteriores.\n",
    "- **Predicción de Series Temporales**: Predecir valores futuros basándose en datos históricos, como pronosticar la demanda de un producto.\n",
    "- **Análisis de Sentimientos**: Evaluar opiniones o emociones expresadas en texto, como determinar si una reseña es positiva o negativa.\n",
    "- Entre otros."
   ]
  },
  {
   "cell_type": "markdown",
   "id": "7a1a27f9",
   "metadata": {},
   "source": [
    "#### 📊 **<font color=\"#d6b302\">Prediciendo precios de casas</font>**\n",
    "\n",
    "Un problema clásico de regresión en el aprendizaje supervisado es la predicción del precio de una casa. En este caso, el modelo se entrena con un conjunto de datos que incluye características de las casas (como tamaño, ubicación, número de habitaciones) y sus precios correspondientes. Una vez entrenado, el modelo puede predecir el precio de una nueva casa basándose en sus características.\n",
    "\n",
    "\n",
    "#### Set de datos\n",
    "\n",
    "En este caso usaremos el set de datos llamado *\"California Housing\"*, que contiene información sobre casas en California, incluyendo características como el número de habitaciones, el tamaño del terreno y el precio de la casa. Este set de datos es ampliamente utilizado para demostrar técnicas de regresión en aprendizaje supervisado.\n",
    "\n",
    "*IMPORTANTE*: Cada fila del set de datos representa un distrito de California."
   ]
  },
  {
   "cell_type": "markdown",
   "id": "21949abe",
   "metadata": {},
   "source": [
    "💻 **Analizando nuestros datos** 💻\n",
    "\n",
    "Lo primero que se debe hacer en cualquier problema, es analizar los datos que tenemos. Vamos a cargar el set de datos y a generar algunas tablas y gráficos para entender mejor la distribución de los datos y algunas características de las casas.\n",
    "\n",
    "Para ver esto, deberás ejecutar las celdas de código que se encuentra debajo."
   ]
  },
  {
   "cell_type": "code",
   "execution_count": null,
   "id": "188715cf",
   "metadata": {},
   "outputs": [],
   "source": [
    "## **** CÓDIGO PYTHON ****\n",
    "\n",
    "##Clonamos el repositorio para poder usar las funciones\n",
    "## Esperar unos segundos hasta ver un 100% de descarga\n",
    "# !git clone https://github.com/lucasbaldezzari/cdan.git\n",
    "\n",
    "##importamos las funciones a usar\n",
    "from funciones.intro_ans import get_housingdata\n",
    "from funciones.intro_ans import plot_histograms\n",
    "from funciones.intro_ans import makeSimpleScatterHousing\n",
    "from funciones.intro_ans import makeBetterScatterHousing\n",
    "from funciones.intro_ans import makeLinearRegressionPipeline\n",
    "from sklearn.model_selection import train_test_split"
   ]
  },
  {
   "cell_type": "code",
   "execution_count": null,
   "id": "6db8038b",
   "metadata": {},
   "outputs": [],
   "source": [
    "housing = get_housingdata()\n",
    "\n",
    "print(\"La cantidad de datos es:\", len(housing))\n",
    "\n",
    "print(\"Primeras 5 filas del set de datos:\")\n",
    "housing.head()"
   ]
  },
  {
   "cell_type": "markdown",
   "id": "c5591cee",
   "metadata": {},
   "source": [
    "❓ ¿Qué caracaterísticas (columnas) conforman nuestro set de datos? ❓\n",
    "\n",
    "Como podemos ver, tenemos varias columnas que representan diferentes características de las casas, como el número de habitaciones, la media de la edad de las casas, y el precio medio de las casas para un distrito. Estas características son las que utilizaremos para entrenar nuestro modelo de regresión."
   ]
  },
  {
   "cell_type": "markdown",
   "id": "3a0bf702",
   "metadata": {},
   "source": [
    "💻 Información resumida 💻\n",
    "\n",
    "Vamos a analizar algunas columnas de nuestro set de datos de manera rápida.\n",
    "\n",
    "Por favor, ejecuta la siguiente celda de código."
   ]
  },
  {
   "cell_type": "code",
   "execution_count": null,
   "id": "246f0fb0",
   "metadata": {},
   "outputs": [],
   "source": [
    "housing[[\"housing_median_age\",\"total_rooms\",\"median_income\",\"median_house_value\"]].describe()"
   ]
  },
  {
   "cell_type": "markdown",
   "id": "58fe7423",
   "metadata": {},
   "source": [
    "La tabla anterior nos muestra algunas estadísticas descriptivas de las columnas seleccionadas. Por ejemplo, podemos ver que la edad media de las casas es de 28.6 años, el número total de habitaciones varía entre 2 y 39, y el ingreso medio es de aproximadamente 3.87 (en miles de USD). Además, el valor medio de las casas es de aproximadamente 206855 (en USD)."
   ]
  },
  {
   "cell_type": "markdown",
   "id": "7c1a6e66",
   "metadata": {},
   "source": [
    "💻 Histogramas para analizar distribuciones 💻\n",
    "\n",
    "Dicen que una imagen vale más que mil palabras, y en este caso, un gráfico puede ayudarnos a entender mejor la distribución de los datos. Vamos a generar algunos histogramas para visualizar la distribución de las características más importantes de las casas.\n",
    "\n",
    "Por favor, ejecuta la siguiente celda de código."
   ]
  },
  {
   "cell_type": "code",
   "execution_count": null,
   "id": "310a85a0",
   "metadata": {},
   "outputs": [],
   "source": [
    "plot_histograms(housing,(10,8))"
   ]
  },
  {
   "cell_type": "markdown",
   "id": "1c8234fa",
   "metadata": {},
   "source": [
    "--- ❓ ---\n",
    "\n",
    "- ¿Qué información podemos obtener de los histogramas anteriores?\n",
    "- Hemos visto que la media de la columna `median_house_value` es de aproximadamente $206855$ U$D. ¿Está bien este valor si miramos la distribución? ¿Recomendarías usar la media como una medida representativa del precio de las casas? ¿Por qué?\n",
    "- ¿Crees que hay alguna característica que podría ser más relevante para predecir el precio de una casa? ¿Por qué?\n",
    "- ¿Hay alguna característica que crees que no es relevante para predecir el precio de una casa? ¿Por qué?\n",
    "\n",
    "--- ❓ ---"
   ]
  },
  {
   "cell_type": "markdown",
   "id": "4def0af3",
   "metadata": {},
   "source": [
    "💻 **Visualizando datos geográficos** 💻\n",
    "\n",
    "Ahora vamos a generar un gráfico del tipo \"dispersión\" para visualizar la distribución de las casas en California. En este gráfico, cada punto representará una casa y su color indicará el precio de la casa. Esto nos permitirá ver cómo se distribuyen los precios de las casas en diferentes áreas geográficas.\n",
    "\n",
    "Por favor, ejecuta la siguiente celda de código."
   ]
  },
  {
   "cell_type": "code",
   "execution_count": null,
   "id": "53ddddd6",
   "metadata": {},
   "outputs": [],
   "source": [
    "makeSimpleScatterHousing(housing, (8,6))"
   ]
  },
  {
   "cell_type": "markdown",
   "id": "2cebd51d",
   "metadata": {},
   "source": [
    "💻 **Mejorando la visualización geográfica** 💻\n",
    "\n",
    "Vamos a generar un gráfico que muestre el mapa de California con la distribución de los distritos como puntos en el mapa, además, cada punto tendrá un color que representa el precio de la casa, finalmente, el diámetro de cada punto será proporcional a la población dentro del distrito. Esto nos permitirá visualizar la distribución geográfica de los precios de las casas en California."
   ]
  },
  {
   "cell_type": "code",
   "execution_count": null,
   "id": "1bf9bd51",
   "metadata": {},
   "outputs": [],
   "source": [
    "makeBetterScatterHousing(housing, (8,6))"
   ]
  },
  {
   "cell_type": "markdown",
   "id": "971092fd",
   "metadata": {},
   "source": [
    "El gráfico anterior es mucho más informativo. Podemos ver, que en general, os distritos más están sobre la costa (lo cual es lo esperable)."
   ]
  },
  {
   "cell_type": "markdown",
   "id": "5ee92f67",
   "metadata": {},
   "source": [
    "💻 **Entrenando un regresor** 💻\n",
    "\n",
    "Queremos predecir el precio de una casa en función de sus características. Para esto, vamos a entrenar un modelo de regresión lineal utilizando el set de datos de California Housing. Este modelo aprenderá a predecir el precio de una casa basándose en las características que hemos analizado anteriormente.\n",
    "\n",
    "Por favor, ejecuta la siguiente celda de código."
   ]
  },
  {
   "cell_type": "code",
   "execution_count": null,
   "id": "0c2d6ac5",
   "metadata": {},
   "outputs": [],
   "source": [
    "regresor = makeLinearRegressionPipeline(housing) ##cargamos el modelo\n",
    "\n",
    "strat_train_set, strat_test_set = train_test_split(housing, test_size=0.2, stratify=housing[\"income_cat\"], random_state=42)\n",
    "\n",
    "training_set = strat_train_set.drop(\"median_house_value\", axis=1)\n",
    "training_labels = strat_train_set[\"median_house_value\"].copy()\n",
    "test_set = strat_test_set.drop(\"median_house_value\", axis=1)\n",
    "test_labels = strat_test_set[\"median_house_value\"].copy()\n",
    "\n",
    "##entrenamos el modelo\n",
    "regresor.fit(training_set, training_labels)"
   ]
  },
  {
   "cell_type": "markdown",
   "id": "a62463c6",
   "metadata": {},
   "source": [
    "Ahora que hemos entrenado el modelo, podemos hacer algunas predicciones. Veamos los valores de predicción para las primeras 3 casas del set de test.\n",
    "\n",
    "Por favor, ejecuta la siguiente celda de código."
   ]
  },
  {
   "cell_type": "code",
   "execution_count": null,
   "id": "8cce02c7",
   "metadata": {},
   "outputs": [],
   "source": [
    "##hacemos algunas predicciones\n",
    "print(\"Predicciones para las primeras 3 casas del set de test:\")\n",
    "predicciones = regresor.predict(test_set.head(3))\n",
    "print(predicciones)\n",
    "\n",
    "print(\"Valores reales para las primeras 3 casas del set de test:\")\n",
    "print(test_labels.head(3).values)\n",
    "print(\"Valores reales para las primeras 3 casas del set de test:\")\n",
    "\n",
    "print(\"Errores de las predicciones:\")\n",
    "errores = (((predicciones / test_labels.head(3).values) - 1) * 100).round(2)\n",
    "print(\", \".join([f\"{ratio:.1f}%\" for ratio in errores]))"
   ]
  },
  {
   "cell_type": "markdown",
   "id": "f1eb2d8c",
   "metadata": {},
   "source": [
    "📚\n",
    "\n",
    "Si estás interesado en profundizar cómo se entreno el modelo de regresión podes consultar el capítulo 2 del libro *Hands-On Machine Learning with Scikit-Learn, Keras, and TensorFlow* de Aurélien Géron.\n",
    "\n",
    "También puedes consultar el siguiente artículo: [Regresión lineal con Scikit-learn](https://scikit-learn.org/stable/modules/linear_model.html#ordinary-least-squares).\n",
    "\n",
    "📚\n",
    "\n",
    "---"
   ]
  }
 ],
 "metadata": {
  "kernelspec": {
   "display_name": "magui",
   "language": "python",
   "name": "python3"
  },
  "language_info": {
   "codemirror_mode": {
    "name": "ipython",
    "version": 3
   },
   "file_extension": ".py",
   "mimetype": "text/x-python",
   "name": "python",
   "nbconvert_exporter": "python",
   "pygments_lexer": "ipython3",
   "version": "3.10.13"
  }
 },
 "nbformat": 4,
 "nbformat_minor": 5
}
