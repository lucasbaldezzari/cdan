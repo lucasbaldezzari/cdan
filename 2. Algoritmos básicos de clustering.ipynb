{
 "cells": [
  {
   "cell_type": "markdown",
   "id": "14fc66bc",
   "metadata": {},
   "source": [
    "# <font color=\"#3A40A2\">📘 Algoritmos básico de clustering - Parte práctica </font>\n",
    "\n",
    "**Materia: Ciencia de Datos aplicada a los Negocios - Universidad de San Andrés**\n",
    "\n",
    "**Autor: [Lucas BALDEZZARI](https://www.linkedin.com/in/lucasbaldezzari/)**\n",
    "\n",
    "**2025**\n",
    "\n",
    "> Este material es para fines educativos y no debe ser utilizado para fines comerciales. El contenido pertenece a la *Universidad de San Andrés* y no debe ser reproducido sin el permiso explícito de la institución y del autor de este repositorio quien es [LUCAS BALDEZZARI](https://www.linkedin.com/feed/).\n",
    "\n",
    "---\n",
    "\n"
   ]
  },
  {
   "cell_type": "markdown",
   "id": "304f542c",
   "metadata": {},
   "source": [
    "## <font color=\"#004eb3\">Temas de la Colab</font>\n",
    "\n",
    "Para esta clase, los temas que veremos son:\n",
    "\n",
    "- Algoritmos de K-means y K-medoids.\n",
    "- Comparativa entre K-means y K-medoids\n",
    "- Inercia y método del codo para determinar el número de clústeres óptimos.\n",
    "\n",
    "Es importante prestar atención a los siguientes íconos o emojis que aparezcan a lo largo de la Colab.\n",
    "\n",
    "- 📘 **Teoría**: Conceptos teóricos.\n",
    "- 📚 **Lectura**: Material adicional que puedes consultar para profundizar en el tema.\n",
    "- 📊 **Ejemplo**: Ejemplo para demostrar y/o reforzar conceptos.\n",
    "- 🔗 **Enlace**: Recursos externos que puedes visitar para obtener más información.\n",
    "- ❓ **Pregunta**: Preguntas disparadas a lo largo del contenido para reflexionar sobre los ejemplos y conceptos tratados.\n",
    "- 💻 **Código**: Indica que la celda de abajo es una celda con código y debe ser ejecutada para ver su contenido."
   ]
  },
  {
   "cell_type": "markdown",
   "id": "71f908f3",
   "metadata": {},
   "source": [
    "## 📘 <font color=\"#00b351\">K-means</font>\n",
    "\n",
    "Hemos dicho que K-means es un algoritmo de *aprendizaje no supervisado* que permite agrupar datos en grupos o clústeres, sin necesidad de conocer previamente etiquetas o categorías.\n",
    "\n",
    "El objetivo principal es encontrar patrones por similitud en nuestros datos, organizándolos en k grupos distintos. Se supone que cada grupo reúne elementos que son más similares entre sí que con los elementos de otros grupos.\n",
    "\n",
    "---❓--- \n",
    "\n",
    "1. En este contexto, ¿qué crees que significa \"similares entre sí\"?\n",
    "2. 2. ¿Cómo podríamos definir la similitud entre dos elementos?\n",
    "\n",
    "---❓---"
   ]
  },
  {
   "cell_type": "markdown",
   "id": "cc7e5520",
   "metadata": {},
   "source": [
    "Podemos usar K-means cuando quisiéramos descubrir patrones o segmentos que se dan de forma natural en nuestros datos, sin necesidad de tener reglas o categorías predefinidas.\n",
    "\n",
    "#### <font color=\"#4e00b3ff\">Aplicaciones posibles</font>\n",
    "\n",
    "Podríamos tener una base de datos de clientes con información sobre:\n",
    "\n",
    "- Edad\n",
    "- Sexo\n",
    "- Frecuencia de compra\n",
    "- Gasto promedio\n",
    "- Ocupación\n",
    "- Nivel educativo\n",
    "- Ingreso promedio\n",
    "- Entre muchas otras.\n",
    "\n",
    "\n",
    "Con K-means podríamos agrupar clientes en base a:\n",
    "\n",
    "- Clientes frecuentes y de gasto alto.\n",
    "- Clientes nuevos con comportamiento incierto.\n",
    "- Clientes que compran periódicamente.\n",
    "- Y mucho más."
   ]
  },
  {
   "cell_type": "markdown",
   "id": "5b64e58f",
   "metadata": {},
   "source": [
    "#### <font color=\"#4e00b3ff\">Funcionamiento básico de K-means</font>\n",
    "\n",
    "De manera resumida, el algoritmo de K-means lleva a cabo los siguientes pasos:\n",
    "\n",
    "1. Se elige un número 𝐾 de grupos/clúster que queremos formar.\n",
    "2. Se inicializan 𝐾 centros –centroides- de manera aleatoria en nuestros datos.\n",
    "3. Se asigna cada observación al centro más cercano -en general usando distancia euclidiana-.\n",
    "4. Recalculamos los centros de cada grupo como el promedio de todos los puntos asignados a él.\n",
    "5. Se repiten los pasos 3 y 4 hasta que los centroides no se muevan (convergencia), lo hagan muy poco o bien luego de una cierta cantidad de iteraciones.\n",
    "\n",
    "> **El algoritmo busca minimizar la distancia total entre las observaciones y el centroide de su grupo.**"
   ]
  },
  {
   "cell_type": "markdown",
   "id": "5aaaf2b4",
   "metadata": {},
   "source": [
    "Podes ver un ejemplo de cómo funciona K-means en el siguiente video:\n",
    "\n",
    "---🔗--- [StatQuest with Josh Starmer - K-means Clustering](https://www.youtube.com/watch?v=4b5d3muPQmA&ab_channel=StatQuestwithJoshStarmer) ---🔗--- "
   ]
  },
  {
   "cell_type": "markdown",
   "id": "90449b51",
   "metadata": {},
   "source": [
    "#### 📊 **<font color=\"#d6b302\">Ejemplo de agrupamiento</font>**\n",
    "\n",
    "En este ejemplo, veremos cómo funciona K-means al agrupar puntos de un set de datos bidimensional.\n",
    "\n",
    "La idea de este ejemplo es\n",
    "\n",
    "- Entender visualmente cómo agrupa K-means.\n",
    "- Entender que K-means no siempre puede converger al resultado óptimo."
   ]
  },
  {
   "cell_type": "markdown",
   "id": "7d61defe",
   "metadata": {},
   "source": [
    "💻 **Instalando dependencias necesarias** 💻\n",
    "\n",
    "Por favor, ejecuta la siguiente celda de código para instalar las dependencias necesarias. Esto puede llevar hasta un minuto."
   ]
  },
  {
   "cell_type": "code",
   "execution_count": null,
   "id": "4b290275",
   "metadata": {},
   "outputs": [],
   "source": [
    "# import sys, subprocess, os\n",
    "\n",
    "# subprocess.check_call([sys.executable, \"-m\", \"pip\", \"install\", \"--upgrade\", \"--force-reinstall\",\n",
    "#                        \"numpy==1.26.4\",\n",
    "#                        \"scikit-learn==1.3.2\",\n",
    "#                        \"scikit-learn-extra==0.3.0\"])\n",
    "\n",
    "# os.kill(os.getpid(), 9)"
   ]
  },
  {
   "cell_type": "markdown",
   "id": "2039315c",
   "metadata": {},
   "source": [
    "💻 **Clonando repositorio** 💻\n",
    "\n",
    "Ejecuta la siguiente celda para clonar el repositorio con los archivos necesarios para esta clase."
   ]
  },
  {
   "cell_type": "code",
   "execution_count": null,
   "id": "8659a4cc",
   "metadata": {},
   "outputs": [],
   "source": [
    "## **** CÓDIGO PYTHON ****\n",
    "\n",
    "##Clonamos el repositorio para poder usar las funciones\n",
    "## Esperar unos segundos hasta ver un 100% de descarga\n",
    "# !git clone https://github.com/lucasbaldezzari/cdan.git\n",
    "\n",
    "##importamos las funciones a usar\n",
    "from funciones.algoritmos_basicos import *\n",
    "from funciones.utils import * ##importo funciones a usar"
   ]
  },
  {
   "cell_type": "markdown",
   "id": "670ba095",
   "metadata": {},
   "source": [
    "💻 **Graficando nuestros datos** 💻\n",
    "\n",
    "Ejecutemos la siguiente celda para graficar los datos que usaremos de ejemplo.\n",
    "\n",
    "IMPORTANTE: Los datos han sido normalizados para que K-means funcione mejor. Por eso hay valores negativos en el eje de gasto mensual."
   ]
  },
  {
   "cell_type": "code",
   "execution_count": null,
   "id": "e38fa58a",
   "metadata": {},
   "outputs": [],
   "source": [
    "makeAndPlotBlobs()"
   ]
  },
  {
   "cell_type": "markdown",
   "id": "320e526a",
   "metadata": {},
   "source": [
    "💻 **Agrupando con K-means** 💻\n",
    "\n",
    "Perfecto, hemos generado un conjunto de datos. A continuación, usaremos K-means para agruparlos. Usaremos $K=4$, sin embargo, podes probar con otros valores de K para ver cómo cambia el resultado.\n",
    "\n",
    "Por favor, ejecuta la siguiente celda para ver cómo K-means agrupa los datos."
   ]
  },
  {
   "cell_type": "code",
   "execution_count": null,
   "id": "05a69160",
   "metadata": {},
   "outputs": [],
   "source": [
    "K=4\n",
    "clusteringAndPlot(K)"
   ]
  },
  {
   "cell_type": "markdown",
   "id": "1d33b01e",
   "metadata": {},
   "source": [
    "---❓--- \n",
    "\n",
    "En base al gráfico anterior:\n",
    "\n",
    "1. ¿Crees que K-means ha hecho un buen trabajo agrupando los datos en $K=4$ grupos?\n",
    "2. ¿Qué podes decir del grupo que se encuentra en la parte izquierda y abajo del gráfico? ¿Es un sólo grupo? ¿Son dos grupos?\n",
    "3. ¿Qué pasaría si usáramos $K=3$ o $K=5$? ¿Donde crees que estarán los nuevos centroides? Modifica el valor de $K$ de la celda anterior y probá. **Pero antes intenta responder sin ejecutar la celda.**\n",
    "\n",
    "---❓---"
   ]
  },
  {
   "cell_type": "markdown",
   "id": "72d90802",
   "metadata": {},
   "source": [
    "#### 📊 **<font color=\"#d63002\">K-means no siempre converge</font>**\n",
    "\n",
    "Sabemos que K-means tiene algunas ventajas, como ser:\n",
    "\n",
    "- Simple y rápido para conjunto de datos grandes.\n",
    "- Fácil de interpretar: cada grupo tiene un “centro” que lo representa.\n",
    "- Funciona bien cuando los grupos son esféricos y bien separados.\n",
    "\n",
    "Sin embargo, también tiene algunas limitaciones, entre estas:\n",
    "1. **Es necesario especificar un número 𝑘 de grupos.**\n",
    "2. **Puede no converger si los centroides están mal elegidos.**\n",
    "3. Es sensible a valores atípicos y a la escala de las variables (se recomienda normalizar variables).\n",
    "4. No funciona nada bien cuando los grupos no tienen formas esféricas.\n",
    "\n",
    "\n",
    "En lo que respecta al punto **1**, hemos visto en las celdas de códigos anteriores que diferentes valores de $K$ generan diferentes agrupamientos.\n",
    "\n",
    "Por otro lado, y de mano con el punto **1**, el **2** también podría ser un problema. Sabemos que el algoritmo incializa los centroides de manera aleatoria (a menos que lo especifiquemos los centroides nosotros), y por lo tanto, si estos puntos están muy alejados K-means podría no converger al resultado óptimo."
   ]
  },
  {
   "cell_type": "markdown",
   "id": "d7a8560c",
   "metadata": {},
   "source": [
    "💻 Convergencia **adecuada** 💻\n",
    "\n",
    "Veamos un ejemplo donde K-means converge adecuadamente.\n",
    "\n",
    "Por favor, ejecuta la siguiente celda para ver cómo K-means agrupa los datos."
   ]
  },
  {
   "cell_type": "code",
   "execution_count": null,
   "id": "21831dff",
   "metadata": {},
   "outputs": [],
   "source": [
    "K = 5\n",
    "showConvergencia(K=K)"
   ]
  },
  {
   "cell_type": "markdown",
   "id": "a6e243a8",
   "metadata": {},
   "source": [
    "💻 Convergencia **INadecuada** 💻\n",
    "\n",
    "Ahora vamos a ver un caso donde K-means no converge adecuadamente.\n",
    "\n",
    "Por favor, ejecuta la siguiente celda para ver cómo K-means agrupa los datos."
   ]
  },
  {
   "cell_type": "code",
   "execution_count": null,
   "id": "5eb6d1a9",
   "metadata": {},
   "outputs": [],
   "source": [
    "K=5\n",
    "showConvergencia(K=K,numpyseed=58)"
   ]
  },
  {
   "cell_type": "markdown",
   "id": "f2f92930",
   "metadata": {},
   "source": [
    "#### 📊 **<font color=\"#d6b302\">¿K-means puede agrupar todos los datos de manera correcta?</font>**\n",
    "\n",
    "Una pregunta que puede surgir es con K-means podemos agrupar todos los datos de manera correcta, incluso aquellos que están alejados de los centroides originales. Para intentar responder a esta pregunta, vamos a graficar los datos etiquetados en base a sus grupos originales, los resultados de la convergencia adecuada y la convergencia inadecuada."
   ]
  },
  {
   "cell_type": "markdown",
   "id": "87dfff5a",
   "metadata": {},
   "source": [
    "💻 Grupos originales 💻\n",
    "\n",
    "Ahora vamos a graficar los datos originales, los datos agrupados correctamente luego de una convergencia adecuada y los datos agrupados incorrectamente luego de una convergencia inadecuada.\n",
    "\n",
    "Por favor, ejecuta la siguiente celda para ver los grupos originales."
   ]
  },
  {
   "cell_type": "code",
   "execution_count": null,
   "id": "a91427e2",
   "metadata": {},
   "outputs": [],
   "source": [
    "plotOriginalConverDiver(figsize=(14, 4),cmap=\"Paired\")"
   ]
  },
  {
   "cell_type": "markdown",
   "id": "5fd3409e",
   "metadata": {},
   "source": [
    "---❓--- \n",
    "\n",
    "En base a los gráficos anteriores:\n",
    "\n",
    "1. ¿Pudo K-means agrupar los datos correctamente en el caso de convergencia adecuada?\n",
    "2. Observando los gráficos de *Grupos origniales* y el de *Convergencia Adecuada*, ¿crees que K-means podría agrupar correctamente aquellos puntos alejados de su centro original? ¿Por qué?\n",
    "\n",
    "---❓---"
   ]
  },
  {
   "cell_type": "markdown",
   "id": "ffb8f585",
   "metadata": {},
   "source": [
    "#### 📊 **<font color=\"#d63002\">K-means no es bueno tratando con outliers</font>**\n",
    "\n",
    "Es muy común tener datos atípicos o *outliers* en nuestros conjuntos de datos. Estos puntos pueden influir negativamente en el resultado de K-means, ya que el algoritmo intenta minimizar la distancia total entre los puntos y sus centroides. Por otro lado, como sabemos, los centroides son el promedio de los puntos asignados a cada grupo, por lo que un outlier puede desplazar significativamente el centroide de un grupo.\n",
    "\n",
    "Veamos esto con un ejemplo."
   ]
  },
  {
   "cell_type": "markdown",
   "id": "2e36bba8",
   "metadata": {},
   "source": [
    "💻 Datos con outliers 💻\n",
    "\n",
    "Vamos ahora a graficar un conjunto de datos con outliers. Estos puntos atípicos pueden influir en el resultado de K-means, ya que el algoritmo intenta minimizar la distancia total entre los puntos y sus centroides.\n",
    "\n",
    "Por favor, ejecuta la siguiente celda para ver los datos con outliers."
   ]
  },
  {
   "cell_type": "code",
   "execution_count": null,
   "id": "f73a3c80",
   "metadata": {},
   "outputs": [],
   "source": [
    "plotDataOutliers()"
   ]
  },
  {
   "cell_type": "markdown",
   "id": "f7bb1f97",
   "metadata": {},
   "source": [
    "---❓--- \n",
    "\n",
    "En base al gráfico anterior:\n",
    "\n",
    "1. ¿Donde crees que estarán los centroides si elegimos $K=2$?\n",
    "2. ¿Y si elegimos $K=3$?\n",
    "\n",
    "---❓---"
   ]
  },
  {
   "cell_type": "markdown",
   "id": "d6a0db43",
   "metadata": {},
   "source": [
    "💻 K-means agrupando datos con outliers 💻\n",
    "\n",
    "Veamos qué sucede cuando aplicamos K-means a estos datos con outliers. En este caso eligiremos $K=2$\n",
    "Por favor, ejecuta la siguiente celda para ver cómo K-means agrupa los datos."
   ]
  },
  {
   "cell_type": "code",
   "execution_count": null,
   "id": "3d3099c6",
   "metadata": {},
   "outputs": [],
   "source": [
    "K=2\n",
    "kmeansOutliers(K)"
   ]
  },
  {
   "cell_type": "markdown",
   "id": "f20455e9",
   "metadata": {},
   "source": [
    "Claramente lo que vemos no es correcto. En el gráfico se ven dos grupos, no obstante, K-means ha agrupado los datos de manera incorrecta, ya que los outliers han influido en el resultado final.\n",
    "\n",
    "Porba hacer $K=3$ o $K=4$ y observa qué sucede."
   ]
  },
  {
   "cell_type": "markdown",
   "id": "66acc153",
   "metadata": {},
   "source": [
    "## 📘 <font color=\"#00b351\">K-medoids</font>\n",
    "\n",
    "Es un algoritmo de aprendizaje no supervisado que permite agrupar datos en grupos o clusters, sin necesidad de conocer previamente etiquetas o categorías.\n",
    "\n",
    "Al igual que con K-means, el objetuivo es encontrar patrones por similitud en nuestros datos, organizándolos en k grupos distintos. Se supone que cada grupo reúne elementos que son más similares entre sí que con los elementos de otros grupos.\n",
    "\n",
    "Sin embargo, <font color=\"#003fb3\">los centroides **son datos reales** del conjunto llamados **medoides** y no el promedio de un grupo de nuestros datos.</font>\n",
    "\n",
    "De manera resumida, el algoritmo de K-medoids lleva a cabo los siguientes pasos:\n",
    "\n",
    "1. Se elige un número 𝐾 de puntos reales como candidatos (en general al azar).\n",
    "2. Se asigna cada observación al medoide más cercano.\n",
    "3. Se calcula el costo total del agrupamiento (ej. Suma de distancias a cada medoide).\n",
    "4. Se reemplaza un medoide por otro punto del grupo y se ve si mejora el costo.\n",
    "5. Si el costo mejora, se actualiza el medoide, si no, se mantiene.\n",
    "\n",
    "Repetimos los pasos 3 a 5 hasta que no haya mejoras.\n",
    "\n",
    "> A diferencia de K-means, el cual actualiza los centroides con el promedio, en K-medoids se eligen siempre puntos reales de nuestros datos."
   ]
  },
  {
   "cell_type": "markdown",
   "id": "e4db8695",
   "metadata": {},
   "source": [
    "#### 📊 **<font color=\"#00b351\">Usando K-medoids para tratar con outliers</font>**\n",
    "\n",
    "En este ejemplo, veremos cómo funciona K-medoids con el set de datos con outliers que vimos anteriormente.\n",
    "\n",
    "Por favor, ejecuta la siguiente celda para ver cómo K-medoids agrupa los datos."
   ]
  },
  {
   "cell_type": "code",
   "execution_count": null,
   "id": "e5a97356",
   "metadata": {},
   "outputs": [],
   "source": [
    "K=2\n",
    "kmedoidsOutliers(K)"
   ]
  },
  {
   "cell_type": "markdown",
   "id": "8d1b015b",
   "metadata": {},
   "source": [
    "Como podemos ver, K-medoids logra agrupar los datos de manera correcta, ya que los outliers no influyen en el resultado final. Esto se debe a que K-medoids utiliza puntos reales como centros de los grupos, lo que lo hace menos sensible a los outliers en comparación con K-means.\n",
    "\n",
    "Porba hacer $K=3$ o $K=4$ y observa qué sucede.\n",
    "\n",
    "---❓--- ¿Qué diferencias ves entre K-means y K-medoids al agrupar con estos valores de $K$? ---❓---"
   ]
  },
  {
   "cell_type": "markdown",
   "id": "4e5934cb",
   "metadata": {},
   "source": [
    "---\n",
    "\n",
    "## 📘 <font color=\"#00b351\">Determinando cantidad de grupos</font>\n",
    "\n",
    "Una de las principales preguntas que surge al usar K-means o K-medoids es: ¿Cómo determinar el número óptimo de grupos/clústeres (K) en mis datos? podemos tener en cuenta varios métodos para ayudarnos a decidir el valor de K, entre ellos:\n",
    "\n",
    "- Método del codo (Elbow Method)\n",
    "- Coeficiente de silueta o *Silhouette score*\n",
    "- Índice Davies-Bouldin \n",
    "- Entre otros.\n",
    "\n",
    "En este ejemplo, veremos el método del codo."
   ]
  },
  {
   "cell_type": "markdown",
   "id": "e356a9ee",
   "metadata": {},
   "source": [
    "#### 📊 <font color=\"#d6b302\">Determinando cantidad de grupos</font>\n",
    "\n",
    "Sabemos que para K-means o K-medoids debemos elegir inicialmente cuántos grupos queremos formar. Esta decisión no es trivial, ya que,\n",
    "\n",
    "1. Si elegimos pocos grupos, corremos el riesgo de agrupar cosas diferentes.\n",
    "2. Si elegimos muchos grupos, podríamos sobresegmentar.\n",
    "\n",
    "En ete ejemplo, usaremos el método del codo para determinar el número óptimo de grupos en un conjunto de datos.\n",
    "\n",
    "El método del codo sirve para seleccionar una cantidad de grupos/clústeres a partir graficar la **inercia** o **el costo de agrupamiento** a medida que se aumenta el número de grupos. Es una estrategia intuitiva y práctica para ayudarnos a definir el número óptimo de grupos.\n",
    "\n",
    "<font color=\"#3002d6\">La inercia mide qué tan compactos están los grupos formados</font>. Se calcula como la suma de las distancias al cuadrado entre cada punto y el centroide de su grupo. A medida que aumentamos el número de grupos, la inercia tiende a disminuir, ya que los puntos están más cerca de sus centroides."
   ]
  },
  {
   "cell_type": "markdown",
   "id": "3174d5da",
   "metadata": {},
   "source": [
    "💻 Graficando datos originales 💻\n",
    "\n",
    "Volvamos a graficar nuestros datos de ejemplo, por favor, ejecutá la celda de abajo."
   ]
  },
  {
   "cell_type": "code",
   "execution_count": null,
   "id": "0383d3b3",
   "metadata": {},
   "outputs": [],
   "source": [
    "makeAndPlotBlobs()"
   ]
  },
  {
   "cell_type": "markdown",
   "id": "f3c9afe9",
   "metadata": {},
   "source": [
    "---❓--- ¿Cuántos grupos/clústeres deberíamos elegir? ---❓--- "
   ]
  },
  {
   "cell_type": "markdown",
   "id": "26394767",
   "metadata": {},
   "source": [
    "💻 Método del codo 💻\n",
    "\n",
    "Lo que vamos a hacer ahora es utilizar el método del codo para determinar el número óptimo de grupos en nuestros datos. Para ello, vamos a calcular la inercia para diferentes valores de K (número de grupos) y graficar el resultado.\n",
    "\n",
    "Por favor, ejecutá la celda de abajo para calcular y graficar la inercia."
   ]
  },
  {
   "cell_type": "code",
   "execution_count": null,
   "id": "e6842d62",
   "metadata": {},
   "outputs": [],
   "source": [
    "getElbow(max_k=20, printear=True)"
   ]
  },
  {
   "cell_type": "markdown",
   "id": "c39fb2c2",
   "metadata": {},
   "source": [
    "---❓--- \n",
    "\n",
    "1. En base al gráfico anterior, ¿Cuántos grupos/clústeres deberíamos elegir?\n",
    "2. ¿Qué sucede con el valor de inercia a medida que crece $K$?\n",
    "3. ¿En algún momento la inercia deja de disminuir?\n",
    "\n",
    "---❓--- "
   ]
  },
  {
   "cell_type": "markdown",
   "id": "20a65882",
   "metadata": {},
   "source": [
    "💻 Agruando según el $K$ determinado por el método del codo 💻\n",
    "\n",
    "En base a tu respuesta, ejecuta la siguiente línea de código modificando el valor K en base a tu elección.\n",
    "\n",
    "He iniciado K = 20, sólo para marcar la muy mala elección que sería elegir 20 grupos/clústeres.\n",
    "\n",
    "Por favor, modifica el valor de K y ejecuta la celda nuevamente."
   ]
  },
  {
   "cell_type": "code",
   "execution_count": null,
   "id": "5290a102",
   "metadata": {},
   "outputs": [],
   "source": [
    "K=4\n",
    "clusteringAndPlot(K,n_samples=2000,getInercia=True)\n",
    "\n",
    "# K=2000\n",
    "# clusteringAndPlot(K,n_samples=2000,getInercia=False)"
   ]
  },
  {
   "cell_type": "markdown",
   "id": "a90abb8d",
   "metadata": {},
   "source": [
    "---❓--- \n",
    "\n",
    "1. ¿Crees que tu elección de K es adecuada? ¿Por qué?\n",
    "2. La cantidad de puntos en el gráfico anterior es de $2000$, ¿qué pasa con el valor de inercia cuando $K=2000$? ¿por qué?\n",
    "\n",
    "---❓--- "
   ]
  },
  {
   "cell_type": "markdown",
   "id": "c9e45eb3",
   "metadata": {},
   "source": [
    "### 📘 <font color=\"#0033b3\">Comentarios finales</font>\n",
    "\n",
    "Hemos revisado el funcionamiento, de manera básica, de los algoritmos K-means y K-medoids. Hemos comprobado qué sucede cuando se eligen diferentes cantidades de grupos a través del parámetro $K$.\n",
    "\n",
    "Es importante mencionar que no hemos explorado en profundidad otros aspectos importantes de estos algoritmos, como la selección de características, la escalabilidad o la interpretación de los resultados. Estos son temas que podrían ser objeto de análisis en trabajos futuros, dado que son cruciales para el rendimiento y la aplicabilidad de los algoritmos de clustering en escenarios del mundo real. A modo de ejemplo, escalar los datos a través de algún método (como la normalización o estandarización) puede tener un impacto significativo en los resultados del clustering, dado que estos son susceptibles a la escala de los datos.\n",
    "\n",
    "Por otro lado, en estos ejemplos hemos usado como método de cálculo de la distancia entre clusters la distancia euclidiana, pero existen otros métodos (como la distancia de Manhattan, entre otros) que podrían ser más adecuados en ciertos contextos.\n",
    "\n",
    "A través del método del codo hemos podido visualizar la inercia en función del número de clusters $K$, lo que nos ayuda a identificar un valor óptimo para $K$. Sin embargo, la elección final de $K$ puede depender del contexto y de los objetivos específicos del análisis. Por otro lado, no siempre es tan fácil determinar el número óptimo de clusters, debido a que la curva de inercia vs número de grupos no siempre es clara, y en algunos casos puede ser necesario realizar un análisis más profundo o utilizar técnicas adicionales para llegar a una conclusión. Veremos otras métricas más adelante en el curso que serán un complemento al método del codo y nos ayudarán a definir el número óptimo de clusters.\n"
   ]
  },
  {
   "cell_type": "markdown",
   "id": "cec07991",
   "metadata": {},
   "source": [
    "---\n",
    "FIN"
   ]
  }
 ],
 "metadata": {
  "kernelspec": {
   "display_name": "magui",
   "language": "python",
   "name": "python3"
  },
  "language_info": {
   "codemirror_mode": {
    "name": "ipython",
    "version": 3
   },
   "file_extension": ".py",
   "mimetype": "text/x-python",
   "name": "python",
   "nbconvert_exporter": "python",
   "pygments_lexer": "ipython3",
   "version": "3.10.13"
  }
 },
 "nbformat": 4,
 "nbformat_minor": 5
}
