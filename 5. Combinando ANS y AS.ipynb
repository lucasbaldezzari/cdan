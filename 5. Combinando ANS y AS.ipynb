{
 "cells": [
  {
   "cell_type": "markdown",
   "id": "702ad69d",
   "metadata": {},
   "source": [
    "# <font color=\"#3A40A2\">📘 5. Combinando Aprendizaje No Supervisado y Aprendizaje Supervisado</font>\n",
    "\n",
    "**Materia: Ciencia de Datos aplicada a los Negocios - Universidad de San Andrés**\n",
    "\n",
    "**Autor: [Lucas BALDEZZARI](https://www.linkedin.com/in/lucasbaldezzari/)**\n",
    "\n",
    "**2025**\n",
    "\n",
    "> Este material es para fines educativos y no debe ser utilizado para fines comerciales. El contenido pertenece a la *Universidad de San Andrés* y no debe ser reproducido sin el permiso explícito de la institución y del autor de este repositorio quien es [LUCAS BALDEZZARI](https://www.linkedin.com/feed/).\n",
    "---\n"
   ]
  },
  {
   "cell_type": "markdown",
   "id": "2cebbcc5",
   "metadata": {},
   "source": [
    "## <font color=\"#004eb3\">Temas de la Colab</font>\n",
    "\n",
    "- Para esta clase aplicaremos los conceptos vistos en las clases anteriores para combinar técnicas de Aprendizaje No Supervisado y Aprendizaje Supervisado. En particular, veremos cómo utilizar técnicas de reducción de dimensionalidad para mejorar el rendimiento de modelos supervisados.\n",
    "\n",
    "Es importante prestar atención a los siguientes íconos o emojis que aparezcan a lo largo de la Colab.\n",
    "\n",
    "- 📘 **Teoría**: Conceptos teóricos.\n",
    "- 📚 **Lectura**: Material adicional que puedes consultar para profundizar en el tema.\n",
    "- 📊 **Ejemplo**: Ejemplo para demostrar y/o reforzar conceptos.\n",
    "- 🔗 **Enlace**: Recursos externos que puedes visitar para obtener más información.\n",
    "- ❓ **Pregunta**: Preguntas disparadas a lo largo del contenido para reflexionar sobre los ejemplos y conceptos tratados.\n",
    "- 💻 **Código**: Indica que la celda de abajo es una celda con código y debe ser ejecutada para ver su contenido."
   ]
  },
  {
   "cell_type": "markdown",
   "id": "b0fe684c",
   "metadata": {},
   "source": [
    "Usar fake_iris para segmentar los datos usando Kmeans y luego aplicar clasificación.\n",
    "\n",
    "Usar el set de datos de productos segmentados para generar los segmentos usando alguna técnica de clustering y luego clasificarlos usando un modelo de clasificación supervisado. Probar clustering jerárquico para ver qué tan bien se separan los datos. Sino descartar y buscar otro.\n",
    "\n",
    "Ejecutar TODO el pipeline del libro de hands on...\n"
   ]
  },
  {
   "cell_type": "markdown",
   "id": "26e3b28a",
   "metadata": {},
   "source": [
    "datawine: \"\"\"\n",
    "es un conjunto de datos de clasificación multiclase clásico que contiene 13 atributos químicos derivados del análisis químico de tres cultivares de vino diferentes cultivados en la misma región de Italia. Sirve como punto de referencia para probar y demostrar algoritmos de aprendizaje automático, particularmente para tareas como la clasificación de cultivares de vino.\n",
    "\"\"\"\n"
   ]
  }
 ],
 "metadata": {
  "language_info": {
   "name": "python"
  }
 },
 "nbformat": 4,
 "nbformat_minor": 5
}
