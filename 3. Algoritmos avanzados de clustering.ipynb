{
 "cells": [
  {
   "cell_type": "markdown",
   "id": "2bb1ae0d",
   "metadata": {},
   "source": [
    "# <font color=\"#3A40A2\">📘 Algoritmos avanzados de clustering - Parte práctica </font>\n",
    "\n",
    "**Materia: Ciencia de Datos aplicada a los Negocios - Universidad de San Andrés**\n",
    "\n",
    "**Autor: [Lucas BALDEZZARI](https://www.linkedin.com/in/lucasbaldezzari/)**\n",
    "\n",
    "**2025**\n",
    "\n",
    "> Este material es para fines educativos y no debe ser utilizado para fines comerciales. El contenido pertenece a la *Universidad de San Andrés* y no debe ser reproducido sin el permiso explícito de la institución y del autor de este repositorio quien es [LUCAS BALDEZZARI](https://www.linkedin.com/feed/).\n",
    "\n",
    "---\n",
    "\n"
   ]
  },
  {
   "cell_type": "markdown",
   "id": "b4370e46",
   "metadata": {},
   "source": [
    "## <font color=\"#004eb3\">Temas de la Colab</font>\n",
    "\n",
    "Para esta clase, los temas que veremos son:\n",
    "\n",
    "- Limitaciones K-means y K-medoids\n",
    "- DBSCAN\n",
    "- Clustering Jerárquico\n",
    "- Concepto de Cohesión Intra-cluster\n",
    "- Métricas avanzadas: Coeficiente de Silueta y Davies Boulding\n",
    "\n",
    "Es importante prestar atención a los siguientes íconos o emojis que aparezcan a lo largo de la Colab.\n",
    "\n",
    "- 📘 **Teoría**: Conceptos teóricos.\n",
    "- 📚 **Lectura**: Material adicional que puedes consultar para profundizar en el tema.\n",
    "- 📊 **Ejemplo**: Ejemplo para demostrar y/o reforzar conceptos.\n",
    "- 🔗 **Enlace**: Recursos externos que puedes visitar para obtener más información.\n",
    "- ❓ **Pregunta**: Preguntas disparadas a lo largo del contenido para reflexionar sobre los ejemplos y conceptos tratados.\n",
    "- 💻 **Código**: Indica que la celda de abajo es una celda con código y debe ser ejecutada para ver su contenido."
   ]
  },
  {
   "cell_type": "markdown",
   "id": "80fd3325",
   "metadata": {},
   "source": [
    "## 📘 <font color=\"#00b351\">1. Limitaciones de K-means y K-medoids</font>\n",
    "\n",
    "En la clase anterior hemos repasado [*Algoritmos básico de clustering*](https://colab.research.google.com/drive/1yXs9SUg5eKVicOqqMQ5nUO7yWIzi61bp?usp=sharing) y en esta clase nos enfocaremos en *Algoritmos avanzados de clustering*.\n",
    "\n",
    "Pudimos ver que tanto k-means como k-medoids son dos algoritmos de clustering que buscan agrupar datos en función de la distancia de cada punto a su centroide más cercano. En primer lugar, en k-means , cada centroide se calcula como el promedio de todos los puntos asignados a ese cluster, mientras que en k-medoids , el centroide es un punto real del dataset que minimiza la distancia total a todos los puntos del cluster. Esto último hacia de k-medoids un algoritmo más robusto frente a outliers, ya que el centroide no se ve afectado por valores extremos.\n",
    "\n",
    "En todo caso, ambos algoritmos son sencillos de aplicar, y sin embargo, son muy robustos para encontrar grupos, siempre y cuando los datos se agrupen con formas circulares o estructuras similares a esta.\n",
    "\n",
    "Sin embargo, **¿qué pasa si los datos tienen formas más complejas o si contienen ruido?** Aquí es donde entran en juego los algoritmos de clustering basados en densidad, como DBSCAN (Density-Based Spatial Clustering of Applications with Noise). DBSCAN es capaz de identificar clusters de forma arbitraria y también puede manejar ruido de manera efectiva."
   ]
  },
  {
   "cell_type": "markdown",
   "id": "6035ae9a",
   "metadata": {},
   "source": [
    "#### 📊 **<font color=\"#d6b302\">1.1 K-means no es bueno agrupando datos no circulares</font>**\n",
    "\n",
    "Veamos un ejemplo en donde K-means falla en agrupar datos no circulares."
   ]
  },
  {
   "cell_type": "markdown",
   "id": "bc86a5a0",
   "metadata": {},
   "source": [
    "💻 Importando librerías 💻\n",
    "\n",
    "Primero, vamos a importar todas las librerías necesarias. Por favor, ejecuta la celda de código de abajo."
   ]
  },
  {
   "cell_type": "code",
   "execution_count": null,
   "id": "e0ddb7bb",
   "metadata": {},
   "outputs": [],
   "source": [
    "## **** CÓDIGO PYTHON ****\n",
    "\n",
    "##Clonamos el repositorio para poder usar las funciones\n",
    "## Esperar unos segundos hasta ver un 100% de descarga\n",
    "# !git clone https://github.com/lucasbaldezzari/cdan.git\n",
    "\n",
    "##importamos las funciones a usar\n",
    "from funciones.avanzados_ans import *\n",
    "# from funciones.utils import * ##importo funciones a usar"
   ]
  },
  {
   "cell_type": "markdown",
   "id": "aa9c7d50",
   "metadata": {},
   "source": [
    "💻 Primer vistazo a nuestros datos 💻\n",
    "\n",
    "Como siempre, lo primero es empezar analizando nuestros datos. Ahora lo que vamos a hacer es visualizar los datos (que son ficticios) para entender mejor su distribución y características antes de aplicar cualquier algoritmo de clustering.\n",
    "\n",
    "Por favor, ejecuta la siguiente celda para visualizar los datos."
   ]
  },
  {
   "cell_type": "code",
   "execution_count": null,
   "id": "91226cb8",
   "metadata": {},
   "outputs": [],
   "source": [
    "showDataKmeans()"
   ]
  },
  {
   "cell_type": "markdown",
   "id": "56a764c7",
   "metadata": {},
   "source": [
    "---❓--- \n",
    "\n",
    "En base a las figuras anteriores,\n",
    "\n",
    "1. ¿Podrías decir cómo agruparía los datos K-means para un $K=2$ para los datos circulares? ¿Y para los datos de lunas?\n",
    "2. Si crees que falla en dividir los datos, ¿a qué atribuís el fallo de K-means en estos casos?\n",
    "\n",
    "---❓--- "
   ]
  },
  {
   "cell_type": "markdown",
   "id": "545d1afe",
   "metadata": {},
   "source": [
    "💻 Agrupando con K-means 💻\n",
    "\n",
    "A continuación vamos a agrupar los datos utilizando K-means. Iniciaremos con $K=2$.\n",
    "\n",
    "Por favor, ejecuta la siguiente celda para agrupar los datos."
   ]
  },
  {
   "cell_type": "code",
   "execution_count": null,
   "id": "2621b1ff",
   "metadata": {},
   "outputs": [],
   "source": [
    "K=2\n",
    "showDataKmeans(K=K,showGrupos=True)"
   ]
  },
  {
   "cell_type": "markdown",
   "id": "a5645ac8",
   "metadata": {},
   "source": [
    "---❓--- \n",
    "\n",
    "Es evidente que K-means tiene dificultades para separar este tipo de datos. Lo mismo pasaría con K-medoids. Ahora bien,\n",
    "\n",
    "1. ¿Qué pasaría si aumentas el número de $K$? Proba modificando $K$ en la celda anterior.\n",
    "2. ¿Donde crees qué están ubicados los centroides para los datos en anillo? ¿Y para los datos de lunas?\n",
    "\n",
    "---❓--- "
   ]
  },
  {
   "cell_type": "markdown",
   "id": "b88e2ddc",
   "metadata": {},
   "source": [
    "💻 Graficando los centroides 💻\n",
    "\n",
    "Ahora vamos a graficar los datos con los centroides. Por favor, ejecuta la siguiente celda para visualizar los resultados."
   ]
  },
  {
   "cell_type": "code",
   "execution_count": null,
   "id": "289fd57b",
   "metadata": {},
   "outputs": [],
   "source": [
    "K=2\n",
    "showDataKmeans(K=K,showGrupos=True, showCentroides=True)"
   ]
  },
  {
   "cell_type": "markdown",
   "id": "66734b81",
   "metadata": {},
   "source": [
    "---❓--- \n",
    "\n",
    "1. ¿Están los centroides donde pensaste que iban a estar? Si la respuesta es negativa, ¿por qué crees que ocurrió esto?\n",
    "\n",
    "---❓--- "
   ]
  },
  {
   "cell_type": "markdown",
   "id": "bb87a5cd",
   "metadata": {},
   "source": [
    "## 📘 <font color=\"#00b351\">2. DBSCAN </font>\n",
    "\n",
    "DBSCAN es un algoritmo de clustering del tipo no supervisado el cual agrupa puntos en función de su densidad. Fue propuesto por [Ester et al. en 1996](https://file.biolab.si/papers/1996-DBSCAN-KDD.pdf). A diferencia de K-means, no requiere que especifiques el número de clusters de antemano. En su lugar, DBSCAN identifica áreas de alta densidad y las utiliza para formar clusters.\n",
    "\n",
    "El objetivo de DBSCAN es detectar grupos de *cualquier forma*, incluyendo agrupamientos con ruidos o puntos aislados (outliers).\n",
    "\n",
    "> <font color=\"#00b38c\">Podemos usar DBSCAN cuando tenemos patrones irregulares y densos, separados por zonas de baja densidad.</font>\n",
    "\n",
    "\n",
    "Nos sirve para:\n",
    "\n",
    "\n",
    "- Agrupar datos con formas arbitrarias (no solo esféricas).\n",
    "\n",
    "- Identificar ruido/outliers sin pasos adicionales.- \n",
    "\n",
    "- Es útil cuando:\n",
    "\n",
    "    - No conoces el número de clústeres.\n",
    "\n",
    "    - Los clústeres no son linealmente separables $^1$.\n",
    "\n",
    "    - Hay datos con ruido significativo.\n",
    "\n",
    "- Ejemplos en business analytics:\n",
    "\n",
    "    - Segmentación de clientes con comportamientos muy variados.\n",
    "\n",
    "    - Detección de fraudes (transacciones atípicas).\n",
    "\n",
    "    - Agrupación de ubicaciones geoespaciales.\n",
    "\n",
    "    - Análisis de patrones de consumo.\n",
    "\n",
    "$^1$ Los clústeres no son linealmente separables significa que no se pueden dividir con una línea recta en un espacio de características. Esto es especialmente relevante en conjuntos de datos de alta dimensión, donde las relaciones entre las características pueden ser complejas y no lineales. Por ejemplo, si los puntos están distribuidos en formas como anillos, espirales o medias lunas entrelazadas, ninguna línea recta puede separarlos sin que puntos de un grupo queden mezclados con los del otro, es decir, una línea recta en datos de lunas o anillos (como el ejemplo que hemos visto más arriba) va a cortar ambas medialunas o ambos anillos."
   ]
  },
  {
   "cell_type": "markdown",
   "id": "8eb62f9e",
   "metadata": {},
   "source": [
    "💻 Comparando K-means y DBSCAN 💻\n",
    "\n",
    "Por favor, ejecuta la celda a continuación para ver la comparación entre K-means y DBSCAN en diferentes conjuntos de datos."
   ]
  },
  {
   "cell_type": "code",
   "execution_count": null,
   "id": "ba8da30c",
   "metadata": {},
   "outputs": [],
   "source": [
    "plotComparativa()"
   ]
  },
  {
   "cell_type": "markdown",
   "id": "b377ce24",
   "metadata": {},
   "source": [
    "De las figuras atneriores podemos mencionar algunas cosas:\n",
    "\n",
    "1. Como ya hemos visto, K-means no puede separar correctamente los datos con forma de anillos y de media lunas.\n",
    "2. En el caso de los grupos con forma esférica o circular (primera hilera) vemos que K-means logra identificar los clústeres correctamente, aunque no detecta outliers como sí lo hace DBSCAN.\n",
    "3. DBSCAN logra identificar la forma de los clústeres de manera más efectiva, especialmente en datos con ruido o formas no convexas (como los anillos y las lunas)."
   ]
  },
  {
   "cell_type": "markdown",
   "id": "4c252097",
   "metadata": {},
   "source": [
    "#### 📘 <font color=\"#00b351\">2.1 ¿Cómo funciona DBSCAN?</font>\n",
    "\n",
    "Lo primero que tenemos que entender es qué entiende DBSCAN como clúster.\n",
    "\n",
    "> <font color=\"#7a00b3\">Un clúster es una región de alta densidad separada de otras por regiones de baja densidad.</font>\n",
    "\n",
    "##### ¿Cómo funciona el algoritmo?\n",
    "\n",
    "Primero, debemos recordar dos parámetros clave:\n",
    "\n",
    "- $\\epsilon$ (eps): radio de vecindad para considerar puntos cercanos.\n",
    "- *minPts*: número mínimo de puntos en una vecindad para que se considere “denso”.\n",
    "\n",
    "Luego, algunos conceptos básicos.\n",
    "\n",
    "- Punto núcleo (core point): tiene al menos *minPts* dentro de su vecindad $\\epsilon$, incluyendo el propio punto.\n",
    "- Punto borde (border point): no cumple *minPts*, pero está dentro de la vecindad de un punto núcleo.\n",
    "- Ruido (noise point): no es núcleo ni borde.\n",
    "\n",
    "Con esto en mente, podemos entender cómo funciona el algoritmo:\n",
    "\n",
    "Para un punto no visitado:\n",
    "\n",
    "1. Se encuentran todos los puntos en su vecindad de radio $\\epsilon$.\n",
    "2. Si hay al menos *minPts*, es un punto núcleo y se inicia un nuevo clúster y añade todos los puntos alcanzables (densidad-conectados).\n",
    "3. Si no, se lo marca como ruido (puede ser reclasificado si luego se encuentra cerca de otro núcleo).\n",
    "4. Repite hasta visitar todos los puntos."
   ]
  },
  {
   "cell_type": "markdown",
   "id": "f3a280e5",
   "metadata": {},
   "source": [
    "#### 📊 **<font color=\"#d6b302\">2.2 Agrupando círculos con DBSCAN</font>**\n",
    "\n",
    "Utilizaremos los datos en anillo para evaluar el funcionamiento de DBSCAN."
   ]
  },
  {
   "cell_type": "markdown",
   "id": "25116384",
   "metadata": {},
   "source": [
    "💻 Graficando datos en anillos 💻\n",
    "\n",
    "Empecemos con datos en anillos, por favor, ejecuta la celda a continuación para ver los datos sin agrupar."
   ]
  },
  {
   "cell_type": "code",
   "execution_count": null,
   "id": "4189140b",
   "metadata": {},
   "outputs": [],
   "source": [
    "circlesWithDBSCAN(title = \"Datos circulares sin agrupar\", figsize=(8, 6))"
   ]
  },
  {
   "cell_type": "markdown",
   "id": "b555b8c6",
   "metadata": {},
   "source": [
    "La gráfica anterior nos muestra gráficos en anillos. Es evidente que por la forma en que de distribuyen los datos tenemos diferentes densidades en cada anillo, y por ende, podemos decir que tenemos dos grupos bien diferenciados."
   ]
  },
  {
   "cell_type": "markdown",
   "id": "eac393a3",
   "metadata": {},
   "source": [
    "💻 Agrupando con DBSCAN 💻\n",
    "\n",
    "Ahora vamos a agrupar usando DBSCAN, por favor, ejecuta la celda a continuación."
   ]
  },
  {
   "cell_type": "code",
   "execution_count": null,
   "id": "ac0480bf",
   "metadata": {},
   "outputs": [],
   "source": [
    "epsilon = 0.2 #distancia máxima entre puntos en un clúster\n",
    "min_points = 5 #mínimo de puntos para formar un clúster\n",
    "circlesWithDBSCAN(epsilon=epsilon, min_points=min_points, title = \"Datos circulares agrupados con DBSCAN\", \n",
    "                  showClustering=True, figsize=(8, 6))"
   ]
  },
  {
   "cell_type": "markdown",
   "id": "5bc0cd75",
   "metadata": {},
   "source": [
    "💻 Modificando el valor de $epsilon$ 💻\n",
    "\n",
    "Podemos ver que DBSCAN agrupa correctamente para los valores de $epsilon = 0.2$ y $min\\_points = 5$. Podemos preguntarnos, ¿qué pasa si modificamos alguno de estos valores?\n",
    "\n",
    "Ejecuta la siguiente celda para ver qué sucede cuando se cambia el valor de $epsilon$."
   ]
  },
  {
   "cell_type": "code",
   "execution_count": null,
   "id": "1e44b233",
   "metadata": {},
   "outputs": [],
   "source": [
    "epsilon = 0.05 #distancia máxima entre puntos en un clúster\n",
    "min_points = 5 #mínimo de puntos para formar un clúster\n",
    "circlesWithDBSCAN(epsilon=epsilon, min_points=min_points, title = \"Datos circulares agrupados con DBSCAN\", \n",
    "                  showClustering=True, figsize=(8, 6))"
   ]
  },
  {
   "cell_type": "markdown",
   "id": "cb0487ba",
   "metadata": {},
   "source": [
    "---❓--- \n",
    "\n",
    "En base al gráfico anterior, y habiendo visto cómo funciona el algoritmo DBSCAN, ¿por qué crees que se ha agrupado de manera diferente con el nuevo valor de $epsilon$?\n",
    "\n",
    "---❓--- "
   ]
  },
  {
   "cell_type": "markdown",
   "id": "86565aa4",
   "metadata": {},
   "source": [
    "💻 Datos ruidosos 💻\n",
    "\n",
    "Puede darse el caso en donde tengamos datos **ruidosos**, en tales situaciones, DBSCAN puede verse afectado. Los puntos ruidosos pueden ser considerados como ruido y, por lo tanto, no se agrupan en clústeres, o bien, la agrupación puede ser menos efectiva.\n",
    "\n",
    "Ejecuta la siguiente celda para ver datos circulares ruidosos, es decir, con más dispersión.\n"
   ]
  },
  {
   "cell_type": "code",
   "execution_count": null,
   "id": "ddadf143",
   "metadata": {},
   "outputs": [],
   "source": [
    "circlesNoisyWithDBSCAN(title = \"Datos circulares ruidosos sin agrupar\", figsize=(8, 6))\n"
   ]
  },
  {
   "cell_type": "markdown",
   "id": "a43b3040",
   "metadata": {},
   "source": [
    "💻 Datos ruidosos 💻\n",
    "\n",
    "Podemos ver que a diferencia del primer gráfico de datos circulares, ahora tenemos datos más dispersos. Veamos cómo DBSCAN maneja esta dispersión en los datos.\n",
    "\n",
    "Usaremos los valores de $epsilon$ y $min\\_points$ que usamos al principio para ver qué sucede.\n",
    "\n",
    "Por favor, ejecuta la siguiente celda para ver cómo agrupa DBSCAN esta nueva distribución en los datos."
   ]
  },
  {
   "cell_type": "code",
   "execution_count": null,
   "id": "177b62b0",
   "metadata": {},
   "outputs": [],
   "source": [
    "epsilon = 0.2 #distancia máxima entre puntos en un clúster\n",
    "min_points = 5 #mínimo de puntos para formar un clúster\n",
    "circlesNoisyWithDBSCAN(epsilon=epsilon, min_points=min_points, title = f\"Datos circulares ruidosos agrupados con DBSCAN - $eps$={epsilon} y $min points$={min_points}\", \n",
    "                  showClustering=True, figsize=(8, 6))"
   ]
  },
  {
   "cell_type": "markdown",
   "id": "5361e305",
   "metadata": {},
   "source": [
    "---❓--- \n",
    "\n",
    "1. ¿Cuántos grupos hay?\n",
    "2. ¿Por qué crees que DBSCAN ha agrupado los datos de esta manera?\n",
    "\n",
    "---❓--- "
   ]
  },
  {
   "cell_type": "markdown",
   "id": "87957eb1",
   "metadata": {},
   "source": [
    "💻 Modificando $epsilon$ y $min\\_points$ 💻\n",
    "\n",
    "Vamos a modificar los valores de $epsilon$ y $min\\_points$ para ver cómo afecta esto al agrupamiento de los datos ruidosos. Por favor, ejecuta la siguiente celda."
   ]
  },
  {
   "cell_type": "code",
   "execution_count": null,
   "id": "2c4a55d7",
   "metadata": {},
   "outputs": [],
   "source": [
    "epsilon = 0.1\n",
    "min_points = 10\n",
    "circlesNoisyWithDBSCAN(epsilon=epsilon, min_points=min_points,\n",
    "                       title = f\"Datos circulares ruidosos agrupados con DBSCAN - $eps$={epsilon} y $min points$={min_points}\",\n",
    "                       figsize=(8, 6), showClustering=True, showOutliers=True)"
   ]
  },
  {
   "cell_type": "markdown",
   "id": "0f66f160",
   "metadata": {},
   "source": [
    "---❓--- \n",
    "\n",
    "Podemos ver que con los datos nuevos de $epsilon=0.1$ y $min\\_points=10$ el agrupamiento mejora. **Incluso podemos ver outliers.**\n",
    "\n",
    "1. ¿Por qué crees que se ven outliers en este caso?\n",
    "2. ¿Podríamos decir que todos los outliers son correctos?\n",
    "3. ¿Qué criterio utilizarías para determinar si un outlier marcado por DBSCAN es relevante o no?\n",
    "\n",
    "---❓--- "
   ]
  },
  {
   "cell_type": "markdown",
   "id": "7a5c977c",
   "metadata": {},
   "source": [
    "#### 📊 **<font color=\"#d6b302\">2.3 Datos reales</font>**\n",
    "\n",
    "Vamos ahora a aplicar DBSCAN a un set más parecido a la realidad.\n",
    "\n",
    "Hemos visto como DBSCAN puede identificar grupos de puntos densos y separar los outliers. Ahora, aplicaremos este algoritmo a un conjunto de datos que emula un escenario del mundo real.\n",
    "\n",
    "Las columnas dentro del set de datos, son:\n",
    "\n",
    "- Cantidad promedio de visitas diarias al producto (popularidad)\n",
    "- Precio en USD del producto\n",
    "- Unidades vendidas por mes\n",
    "- Valoración media de usuarios (1 a 5)"
   ]
  },
  {
   "cell_type": "markdown",
   "id": "737e7aea",
   "metadata": {},
   "source": [
    "💻 Analizando los datos sin agrupar 💻\n",
    "\n",
    "Vamos a revisar cómo se distribuyen los datos en un gráfico de dispersión. Utilizaremos columnas diferentes para poder comparar las relaciones entre las variables.\n",
    "\n",
    "En este primer caso, vamos a comparar las columnas, *media_visitas_diarias* y *unidades_vendidas_mensuales*. Por favor, ejecuta la siguiente celda.\n"
   ]
  },
  {
   "cell_type": "code",
   "execution_count": null,
   "id": "e8ff30ed",
   "metadata": {},
   "outputs": [],
   "source": [
    "columna1=\"media_visitas_diarias\"\n",
    "columna2=\"unidades_vendidas_mensuales\"\n",
    "\n",
    "realdataWithDBSCAN(columnasInteres = [columna1,columna2], figsize=(8, 6))"
   ]
  },
  {
   "cell_type": "markdown",
   "id": "60295fa4",
   "metadata": {},
   "source": [
    "Ahora vamos a comparar las columnas, *media_visitas_diarias* y *precio_unitario*. Por favor, ejecuta la siguiente celda."
   ]
  },
  {
   "cell_type": "code",
   "execution_count": null,
   "id": "b12a5831",
   "metadata": {},
   "outputs": [],
   "source": [
    "columna1=\"media_visitas_diarias\"\n",
    "columna2=\"precio_unitario\"\n",
    "realdataWithDBSCAN(columnasInteres = [columna1,columna2], figsize=(8, 6))"
   ]
  },
  {
   "cell_type": "markdown",
   "id": "e09c8871",
   "metadata": {},
   "source": [
    "---❓--- \n",
    "\n",
    "Podemos ver que con los datos nuevos de $epsilon=0.1$ y $min\\_points=10$ el agrupamiento mejora. **Incluso podemos ver outliers.**\n",
    "\n",
    "1. ¿Por qué se ve diferente la distribución de los datos?\n",
    "2. ¿Cuál de los dos gráficos anteriores te prece mejor para visualizar la cantidad de grupos?\n",
    "3. ¿Cuántos grupos crees que tiene el set de datos analizando las gráficas?\n",
    "\n",
    "---❓--- "
   ]
  },
  {
   "cell_type": "markdown",
   "id": "ca4dd0a9",
   "metadata": {},
   "source": [
    "##### 📊 **<font color=\"#d6b302\">2.4 Agrupando datos reales con DBSCAN</font>**\n",
    "\n",
    "Ahora usemos DBSCAN para agrupar este nuevo se de datos. Vamos a usar las columnas *media_visitas_diarias* y *unidades_vendidas_mensuales* para agrupar. Además, usaremos $epsilon=0.5$ y $min\\_points=5$.\n",
    "\n",
    "Por favor, ejecuta la siguiente celda para ver los resultados del agrupamiento."
   ]
  },
  {
   "cell_type": "code",
   "execution_count": null,
   "id": "89a87b18",
   "metadata": {},
   "outputs": [],
   "source": [
    "columna1=\"media_visitas_diarias\"\n",
    "columna2=\"unidades_vendidas_mensuales\"\n",
    "\n",
    "epsilon = 0.5\n",
    "min_points = 8\n",
    "\n",
    "realdataWithDBSCAN(epsilon=epsilon, min_points=min_points,\n",
    "                   columnasInteres = [columna1,columna2], figsize=(8, 6), showClustering=True, showOutliers=True)"
   ]
  },
  {
   "cell_type": "markdown",
   "id": "f72a25de",
   "metadata": {},
   "source": [
    "---❓--- \n",
    "\n",
    "1. ¿Crees que DBSCAN ha hecho una buena agrupación?\n",
    "2. ¿Estás de acuerdo con los outliers que ha detectado DBSCAN?\n",
    "\n",
    "---❓--- "
   ]
  },
  {
   "cell_type": "markdown",
   "id": "00184dd1",
   "metadata": {},
   "source": [
    "💻 Usando diferentes columnas 💻\n",
    "\n",
    "Al parecer, la agrupación parece estar bien.\n",
    "\n",
    "Sin embasrgo, ¿qué pasaría si cambiamos las columnas que estamos usando para agrupar? Por ejemplo, podríamos usar *media_visitas_diarias* y *precio_unitario* en lugar de las anteriores.\n",
    "\n",
    "Ejecuta la siguiente celda para ver cómo cambia la agrupación con estas nuevas columnas."
   ]
  },
  {
   "cell_type": "code",
   "execution_count": null,
   "id": "ebc7b8aa",
   "metadata": {},
   "outputs": [],
   "source": [
    "columna1=\"media_visitas_diarias\"\n",
    "columna2=\"precio_unitario\"\n",
    "\n",
    "epsilon = 0.5\n",
    "min_points = 6\n",
    "\n",
    "realdataWithDBSCAN(epsilon=epsilon, min_points=min_points,\n",
    "                   columnasInteres = [columna1,columna2], figsize=(8, 6), showClustering=True, showOutliers=True)"
   ]
  },
  {
   "cell_type": "markdown",
   "id": "f966ed39",
   "metadata": {},
   "source": [
    "---❓--- \n",
    "\n",
    "1. ¿Crees que DBSCAN ha hecho una buena agrupación?\n",
    "2. ¿Estás de acuerdo con los outliers que ha detectado DBSCAN?\n",
    "3. ¿Usarías K-means en vez de DBSCAN? ¿Por qué?\n",
    "\n",
    "---❓--- "
   ]
  },
  {
   "cell_type": "markdown",
   "id": "572c9692",
   "metadata": {},
   "source": [
    "### 📘 <font color=\"#00b351\">3 .Clustering jerárquico</font>\n",
    "\n",
    "Los **algoritmos jerárquicos** de agrupamientos nos **permiten construir estructuras en forma de árbol llamados *dendograma*** para organizar los datos en niveles de agrupamientos.\n",
    "\n",
    "Son útiles cuando necesitamos entender las relaciones entre los datos a diferentes escalas y niveles estructurales.\n",
    "\n",
    "Un dendograma sirve para:\n",
    "\n",
    "- Reconocer la estructura jerárquica de los datos\n",
    "- En qué orden se agruparon los elementos.\n",
    "- A qué nivel (distancia) se fusionaron los clústeres.\n",
    "\n",
    "Encontramos dos formas básicas de aplicar este tipo de algoritmo, a saber:\n",
    "\n",
    "| Método     | Nombre       | Descripción                                                                 |\n",
    "|------------|--------------|------------------------------------------------------------------------------|\n",
    "| Ascendente | Aglomerativo | Cada punto es un clúster individual y se los va fusionando.                 |\n",
    "| Descendente| Divisivo     | Se parte de todos los puntos como un gran clúster y se los divide recursivamente|\n",
    "\n",
    "Con cualquiera de los dos métodos, el resultado es el mismo -siempre y cuando la **distancia** utilizada para fusionar o dividir los clústeres sea la misma-."
   ]
  },
  {
   "cell_type": "markdown",
   "id": "ee3532d0",
   "metadata": {},
   "source": [
    "##### 📊 **<font color=\"#d6b302\">3.1 Usando clustering Jerárquico - Set de datos 1</font>**\n",
    "\n",
    "Vamos a aplicar clustering jerárquico a un set de datos sintético. La idea es poder aplicar los conceptos vistos durante la teoría.\n",
    "\n",
    "Por favor, ejecutá la celda debajo para visualizar los datos.\n",
    "\n",
    "NOTA: Si quisieras ver los grupos verdaderos, puedes activar la opción *show_true_groups* haciendola igual a *True*."
   ]
  },
  {
   "cell_type": "code",
   "execution_count": null,
   "id": "ff277429",
   "metadata": {},
   "outputs": [],
   "source": [
    "dendo1stExample(show_blobs=True, figsize=(8, 6), show_true_groups=False)"
   ]
  },
  {
   "cell_type": "markdown",
   "id": "668108c6",
   "metadata": {},
   "source": [
    "💻 Generando dendograma 💻\n",
    "\n",
    "Vamos a generar un dendograma usando los datos anteriores, por favor, ejecuta la celda de abajo."
   ]
  },
  {
   "cell_type": "code",
   "execution_count": null,
   "id": "1e22c737",
   "metadata": {},
   "outputs": [],
   "source": [
    "dendo1stExample(show_dendo=True, show_blobs=False, figsize=(8, 6))"
   ]
  },
  {
   "cell_type": "markdown",
   "id": "7392c718",
   "metadata": {},
   "source": [
    "La cantidad de observaciones que tiene nuestro set de datos es de $50$, es decir, tenemos 50 puntos. Ahora bien, hemos obtenido un dendograma ascendente, que como sabemos, genera una matriz de distancias entre todos los puntos y empieza a agruparlos desde abajo hacia arriba. El eje $y$ del dendograma representa la distancia o disimilitud entre los grupos que se están uniendo.\n",
    "\n",
    "Podemos pensar que a medida que *\"subimos\"* en el arbol empezamos a agrupar los puntos en clústeres, o dicho de otra manera, en base a la similitud entre ellos. Esto significa que los puntos que están más cerca en el espacio de características se agruparán primero, mientras que los puntos más distantes se unirán en etapas posteriores."
   ]
  },
  {
   "cell_type": "markdown",
   "id": "e1d4d5b6",
   "metadata": {},
   "source": [
    "---❓--- \n",
    "\n",
    "1. ¿Cuántos grupos crees que hay?\n",
    "2. ¿Donde colocarías el umbral para cortar el arbol y por qué?\n",
    "\n",
    "---❓--- "
   ]
  },
  {
   "cell_type": "markdown",
   "id": "939b8a79",
   "metadata": {},
   "source": [
    "💻 Seleccionando el umbral y agrupando 💻\n",
    "\n",
    "En este paso, seleccionaremos un umbral para poder agrupar. Para esto, reemplaza el valor de **umbral** que dice *None* de la celda de abajo por un número que creas conveniente. Recorda que el umbral representa la distancia máxima entre puntos para que sean considerados parte del mismo grupo. Es una línea horizontal en el dendrograma.\n",
    "\n",
    "Por favor, ajusta el valor de `umbral` en la celda de abajo y ejecuta la celda para ver cómo cambia el agrupamiento."
   ]
  },
  {
   "cell_type": "code",
   "execution_count": null,
   "id": "61b10e87",
   "metadata": {},
   "outputs": [],
   "source": [
    "umbral = None\n",
    "dendo1stExample(show_blobs=True, show_dendo=True, umbral_corte=umbral)"
   ]
  },
  {
   "cell_type": "markdown",
   "id": "e9eb0abe",
   "metadata": {},
   "source": [
    "---❓--- \n",
    "\n",
    "1. En base al umbral que elegiste, ¿crees que los grupos están bien definidos?\n",
    "2. ¿Qué cambios harías en el umbral para mejorar la agrupación?\n",
    "3. ¿Qué pasa si el umbral es $0$, y si es $80$? ¿Tiene sentido lo que sucede en cada caso?\n",
    "\n",
    "---❓--- "
   ]
  },
  {
   "cell_type": "markdown",
   "id": "b2135017",
   "metadata": {},
   "source": [
    "##### 📊 **<font color=\"#d6b302\">3.2 Usando clustering Jerárquico - Datos reales</font>**\n",
    "\n",
    "Ahora vamos a usar clustering jerárquico para agrupar el set de datos que hemos visto en la sección 2.3.\n",
    "\n",
    "En primer lugar, deberás selecciónar dos de las siguientes características:\n",
    "\n",
    "- \"media_visitas_diarias\"\n",
    "- \"unidades_vendidas_mensuales\"\n",
    "- \"precio_unitario\"\n",
    "\n",
    "Como ejemplo, se eligen \"media_visitas_diarias\" y \"unidades_vendidas_mensuales\".\n",
    "\n",
    "NOTA: Para visualizar correctamente, debes reemplazar las características deseadas copiando y pegando el texto con las comillas incluidas.\n",
    "\n",
    "Por favor, ejecuta la celda de abajo para visualizar los datos sin etiquetar y el dendograma generado a partir de los datos."
   ]
  },
  {
   "cell_type": "code",
   "execution_count": null,
   "id": "c43736dc",
   "metadata": {},
   "outputs": [],
   "source": [
    "columna1=\"media_visitas_diarias\"\n",
    "columna2=\"unidades_vendidas_mensuales\"\n",
    "realdataWithDendo(columnasInteres=[columna1, columna2])"
   ]
  },
  {
   "cell_type": "markdown",
   "id": "6d029b36",
   "metadata": {},
   "source": [
    "---❓--- \n",
    "\n",
    "1. En base a los gráficos anteriores, ¿cuántos grupos crees que hay?\n",
    "2. ¿Donde eligirías el umbral de corte y por qué?\n",
    "\n",
    "---❓--- "
   ]
  },
  {
   "cell_type": "markdown",
   "id": "b152e8a6",
   "metadata": {},
   "source": [
    "💻 Seleccionando el umbral y agrupando 💻\n",
    "\n",
    "Por favor, en la celda de abajo reemplaza la plabra *None* en la variable *umbral* por el valor que consideres adecuado y luego ejecuta la celda."
   ]
  },
  {
   "cell_type": "code",
   "execution_count": null,
   "id": "dd637d36",
   "metadata": {},
   "outputs": [],
   "source": [
    "columna1=\"media_visitas_diarias\"\n",
    "columna2=\"unidades_vendidas_mensuales\"\n",
    "\n",
    "umbral = None\n",
    "\n",
    "realdataWithDendo(columnasInteres=[columna1, columna2], umbral_corte=umbral)"
   ]
  },
  {
   "cell_type": "markdown",
   "id": "cc8c1ced",
   "metadata": {},
   "source": [
    "---❓--- \n",
    "\n",
    "1. ¿Crees que el algoritmo ha agrupado correctamente los datos? ¿Por qué?\n",
    "2. ¿Qué harías para ayudarte a determinar si la cantidad de grupos que formaste es la más adecuada?\n",
    "\n",
    "---❓--- "
   ]
  },
  {
   "cell_type": "markdown",
   "id": "0b66320e",
   "metadata": {},
   "source": [
    "##### 📊 **<font color=\"#d6b302\">3.3 Usando métricas para ayudarnos a elegir la cantidad de grupos</font>**\n",
    "\n",
    "Vamos ahora a usar el *Coeficiente de Silueta* y el *Índice de Davies-Bouldin* para evaluar la calidad de nuestros agrupamientos y ayudarnos a elegir la cantidad de grupos más adecuada.\n",
    "\n",
    "Recordemos que:\n",
    "\n",
    "- El *Coeficiente de Silueta* mide qué tan similares son los objetos dentro de un mismo grupo en comparación con los objetos de otros grupos. Toma valores entre $-1$ y $1$, donde un valor cercano a $1$ indica que los objetos están bien agrupados.\n",
    "- El *Índice de Davies-Bouldin* evalúa la relación entre la dispersión de los grupos y la separación entre ellos. Un valor más bajo indica una mejor calidad de agrupamiento.\n",
    "\n",
    "Usaremos clustering jerárquico.\n",
    "\n",
    "Usando las mismas columnas que la celda anterior, podes elegir diferentes umbrales (reemplaza la palabra *None* por el valor que creas conveniente) y ver qué valores toman las métricas."
   ]
  },
  {
   "cell_type": "code",
   "execution_count": null,
   "id": "d92d1411",
   "metadata": {},
   "outputs": [],
   "source": [
    "columna1=\"media_visitas_diarias\"\n",
    "columna2=\"unidades_vendidas_mensuales\"\n",
    "\n",
    "umbral = None\n",
    "\n",
    "realdataWithDendo(columnasInteres=[columna1, columna2],umbral_corte=umbral,show_scores=True)"
   ]
  },
  {
   "cell_type": "markdown",
   "id": "13b7a371",
   "metadata": {},
   "source": [
    "---❓--- \n",
    "\n",
    "1. En base a los valores de las métricas, ¿qué conclusiones puedes sacar sobre la calidad del agrupamiento?\n",
    "2. ¿Qué pasa si usas diferentes columnas? ¿Es necesario usar umbrales diferentes, por qué? ¿Las métricas se ven afectadas?\n",
    "\n",
    "---❓--- "
   ]
  },
  {
   "cell_type": "markdown",
   "id": "ac772536",
   "metadata": {},
   "source": [
    "### 📊 **<font color=\"#d6b302\">4. Comparando diferentes diferentes algoritmos para agrupar</font>**\n",
    "\n",
    "Ahora vamos a usar K-means, DBSCAN y clustering Jerárquico para agrupar los datos reales.\n",
    "\n",
    "La celda de abajo contiene valores de $K$, $epsilon$, $min\\_samples$ y un umbral pre definidos, podes jugar con cada uno de estos parámetros para ver cómo se agrupan los datos.\n",
    "\n",
    "Por favor, ejecuta la celda para ver los resultados.\n"
   ]
  },
  {
   "cell_type": "code",
   "execution_count": null,
   "id": "196b5a84",
   "metadata": {},
   "outputs": [],
   "source": [
    "comparing_algorithms(K=3, epsilon=0.5, min_samples=5, umbral_corte=9)"
   ]
  },
  {
   "cell_type": "markdown",
   "id": "8039b922",
   "metadata": {},
   "source": [
    "---\n",
    "<h3 style=\"color:rgba(9, 12, 1701);\">FIN</h3>"
   ]
  },
  {
   "cell_type": "markdown",
   "id": "3d4c2c7f",
   "metadata": {},
   "source": [
    "---\n",
    "\n",
    "### 🔗 <font color=\"#1bb300\">Para reforzar</font> 🔗\n",
    "\n",
    "Para las personas que quieran reforzar o complementar lo visto en clase pueden acceder a los siguientes links:\n",
    "\n",
    "1. [DBSCAN - Statquest](https://www.youtube.com/watch?v=RDZUdRSDOok&ab_channel=StatQuestwithJoshStarmer)\n",
    "2. [DBSCAN - Wikipedia](https://en.wikipedia.org/wiki/DBSCAN)\n",
    "\n",
    "<font color=\"#a23a3a\">**IMPORTANTE: El material de *refuerzo* no será evaluado**</font>"
   ]
  },
  {
   "cell_type": "markdown",
   "id": "63e70265",
   "metadata": {},
   "source": [
    "---\n",
    "\n",
    "## <font color=\"#3A40A2\">📘 Material complementario </font>\n",
    "\n",
    "A continuación se deja material complementario para entender cómo se calculan las métricas que hemos visto en clase de teoría y práctica.\n",
    "\n",
    "<font color=\"#a23a3a\">**IMPORTANTE: Este material no será evaluado**</font>"
   ]
  },
  {
   "cell_type": "markdown",
   "id": "8f767009",
   "metadata": {},
   "source": [
    "<h3 style=\"color:rgb(9, 170, 111);\">Cuantificando la distancia entre grupos</h3>\n",
    "\n",
    "Existen diferentes formas de cuantificar la cohesión dentro de cada clúster, entre estas encontramos:\n",
    "\n",
    "**<div style=\"text-align: center;\">1. Single Linkage Distance</div>**\n",
    "\n",
    "Es la distancia más cercana entre dos objetos que pertenecen a diferentes clústeres. En otras palabras, es la distancia entre el par de puntos más cercanos de dos clústeres distintos.\n",
    "\n",
    "Se calcula como:\n",
    "\n",
    "$$ \\delta_{1}(C_i, C_j) = \\min_{x \\in C_i, y \\in C_j} d(x, y) $$\n",
    "\n",
    "Donde $C_i$ y $C_j$ son los clústeres, $x$ es un punto en el clúster $C_i$, $y$ es un punto en el clúster $C_j$, y $d(x, y)$ es la distancia entre los puntos $x$ e $y$.\n",
    "\n",
    "**<div style=\"text-align: center;\">2. Complete Linkage Distance</div>**\n",
    "\n",
    "Es la distancia más lejana entre dos objetos que pertenecen a diferentes clústeres. En otras palabras, es la distancia entre el par de puntos más distantes de dos clústeres distintos.\n",
    "\n",
    "Se calcula como:\n",
    "$$ \\delta_{2}(C_i, C_j) = \\max_{x \\in C_i, y \\in C_j} d(x, y) $$\n",
    "\n",
    "Donde $C_i$ y $C_j$ son los clústeres, $x$ es un punto en el clúster $C_i$, $y$ es un punto en el clúster $C_j$, y $d(x, y)$ es la distancia entre los puntos $x$ e $y$.\n",
    "\n",
    "**<div style=\"text-align: center;\">3. Average Linkage Distance</div>**\n",
    "\n",
    "Esta distancia se calcula como el promedio de las distancias entre todos los pares de puntos de dos clústeres distintos.\n",
    "\n",
    "Se calcula como:\n",
    "$$ \\delta_{3}(C_i, C_j) = \\frac{1}{|C_i| \\cdot |C_j|} \\sum_{x \\in C_i} \\sum_{y \\in C_j} d(x, y) $$\n",
    "\n",
    "Donde $C_i$ y $C_j$ son los clústeres, $|C_i|$ y $|C_j|$ son el número de puntos en los clústeres $C_i$ y $C_j$, respectivamente, $x$ es un punto en el clúster $C_i$, $y$ es un punto en el clúster $C_j$, y $d(x, y)$ es la distancia entre los puntos $x$ e $y$.\n",
    "\n",
    "**<div style=\"text-align: center;\">4. Centroid Linkage Distance</div>**\n",
    "\n",
    "Es la distancia entre los centros de dos clústeres.\n",
    "\n",
    "Se calcula como:\n",
    "$$ \\delta_{4}(C_i, C_j) = d(\\mu(C_i), \\mu(C_j)) $$\n",
    "\n",
    "Con $\\mu(C_i)$ y $\\mu(C_j)$ representando los centros de los clústeres $C_i$ y $C_j$, respectivamente, y $d(\\mu(C_i), \\mu(C_j))$ es la distancia entre los centroides.\n",
    "\n",
    "$\\mu(C_i)$ y $\\mu(C_j)$ se definen como:\n",
    "$$ \\mu(C_i) = \\frac{1}{|C_i|} \\sum_{x \\in C_i} x , \\quad \\mu(C_j) = \\frac{1}{|C_j|} \\sum_{y \\in C_j} y $$\n",
    "\n",
    "**<div style=\"text-align: center;\">5. Average Centroid Linkage Distance</div>**\n",
    "\n",
    "Es la distancia entre el centro de un grupo y todos los puntos de otro grupo.\n",
    "\n",
    "Se calcula como:\n",
    "$$ \\delta_{5}(C_i, C_j) = \\frac{1}{|C_i|+|C_j|} \\left\\{ \\sum_{x \\in C_i} d(x, \\mu(C_j)) + \\sum_{y \\in C_j} d(y, \\mu(C_i)) \\right\\} $$"
   ]
  },
  {
   "cell_type": "markdown",
   "id": "5ba8c78a",
   "metadata": {},
   "source": []
  },
  {
   "cell_type": "markdown",
   "id": "19cd54db",
   "metadata": {},
   "source": [
    "<h3 style=\"color:rgb(9, 170, 111);\">Formas de cuantificar la distancia intra-grupo</h3>\n",
    "\n",
    "De forma general, la distancia intra-grupo se puede cuantificar de las siguientes formas:\n",
    "\n",
    "**<div style=\"text-align: center;\">Complete Diameter Distance</div>**\n",
    "\n",
    "Es la distancia máxima entre dos puntos dentro del mismo grupo. Se calcula como la distancia entre el par de puntos más alejados dentro del clúster.\n",
    "\n",
    "Sea $C$ un clúster con $n$ puntos, $\\{x_1,x_2,...,x_n\\}$, entonces,\n",
    "\n",
    "$$ D_{complete}(C) = \\max_{i,j} d(x_i, x_j) $$\n",
    "\n",
    "Donde $d(x_i, x_j)$ es la distancia entre los puntos $x_i$ y $x_j$, usualmente la distancia euclidiana.\n",
    "\n",
    "¿Qué nos dice esta métrica?\n",
    "\n",
    "- Nos da el diámetro máximo del clúster.\n",
    "- Refleja qué tan _\"extendido\"_ está el clúster en su peor caso.\n",
    "- No es sensible a la forma del clúster, ya que solo considera el par de puntos más alejados.\n",
    "- **Es sensible a los outliers**, ya que un solo punto muy alejado puede aumentar significativamente el diámetro.\n",
    "\n",
    "**<div style=\"text-align: center;\">Average Diameter Distance</div>**\n",
    "\n",
    "Es la distancia promedio entre todos los pares de puntos dentro del mismo grupo.\n",
    "\n",
    "$$ \\text{diam}_2(C) = \\frac{1}{n (n - 1)} \\sum_{\\substack{x, y \\in C \\\\ x \\neq y}} d(x, y) $$\n",
    "\n",
    "Esta formula calcula el **promedio de las distancias entre todos los pares de puntos diferentes entre sí** dentro del clúster. Es útil para entender la cohesión general del clúster.\n",
    "\n",
    "- si los puntos están muy juntos, la distancia promedio será baja, indicando alta cohesión.\n",
    "- si los puntos están muy dispersos, la distancia promedio será alta, indicando baja cohesión o un clúster poco compacto.\n",
    "\n",
    "Esta métrica,\n",
    "\n",
    "- Nos da una idea general de la cohesión del clúster.\n",
    "- Es menos sensible a los outliers que la métrica de diámetro completo, ya que considera todas las distancias entre pares de puntos.\n",
    "- Es útil para clústeres con formas variadas, ya que promedia las distancias en lugar de enfocarse en el par más alejado.\n",
    "- Es útil para comparar clústeres de diferentes tamaños, ya que normaliza por el número de puntos.\n",
    "\n",
    "**<div style=\"text-align: center;\">Centroid Diameter Distance</div>**\n",
    "\n",
    "Es la distancia entre los centroides de los grupos. Se calcula como la distancia entre el centroide del clúster y cada uno de los puntos dentro del clúster.\n",
    "\n",
    "Sea $C$ un clúster con $n$ puntos, $\\{x_1,x_2,...,x_n\\}$, primero calculamos el centroide $c$ del clúster como:\n",
    "\n",
    "$$ \\mu_{C_k} = \\frac{1}{n} \\sum_{x_i \\in C_k}^{} x_i $$\n",
    "\n",
    "Luego, la intra-clúster es:\n",
    "\n",
    "$$ D_{centroid}(C_k) = \\frac{1}{n} \\sum_{x_i \\in C_k}^{} d(x_i, \\mu_{C_k}) $$"
   ]
  }
 ],
 "metadata": {
  "kernelspec": {
   "display_name": "magui",
   "language": "python",
   "name": "python3"
  },
  "language_info": {
   "codemirror_mode": {
    "name": "ipython",
    "version": 3
   },
   "file_extension": ".py",
   "mimetype": "text/x-python",
   "name": "python",
   "nbconvert_exporter": "python",
   "pygments_lexer": "ipython3",
   "version": "3.10.13"
  }
 },
 "nbformat": 4,
 "nbformat_minor": 5
}
